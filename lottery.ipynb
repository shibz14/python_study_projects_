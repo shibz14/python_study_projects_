{
  "nbformat": 4,
  "nbformat_minor": 0,
  "metadata": {
    "colab": {
      "name": "lottery.ipynb",
      "provenance": [],
      "collapsed_sections": [],
      "authorship_tag": "ABX9TyMBlt6E4gf/dOBFoPUWyFHQ",
      "include_colab_link": true
    },
    "kernelspec": {
      "name": "python3",
      "display_name": "Python 3"
    },
    "language_info": {
      "name": "python"
    }
  },
  "cells": [
    {
      "cell_type": "markdown",
      "metadata": {
        "id": "view-in-github",
        "colab_type": "text"
      },
      "source": [
        "<a href=\"https://colab.research.google.com/github/shibz14/python_study_projects_/blob/main/lottery.ipynb\" target=\"_parent\"><img src=\"https://colab.research.google.com/assets/colab-badge.svg\" alt=\"Open In Colab\"/></a>"
      ]
    },
    {
      "cell_type": "code",
      "metadata": {
        "id": "B_1bix7GzS0U"
      },
      "source": [
        "#lucky draw\n",
        "\n",
        "participants=[]\n",
        "\n",
        "lim=int(input(\"Enter number of participants : \"))\n",
        "\n",
        "for i in range(0,int(lim)):\n",
        "  elem=input(\"Enter name of participant : \")\n",
        "  participants.append(elem)\n",
        "\n",
        "print(participants)\n",
        "\n",
        "import random\n",
        "\n",
        "n=random.randint(0,lim-1)\n",
        "\n",
        "print(\"the lucky winner is\",participants[n])"
      ],
      "execution_count": null,
      "outputs": []
    },
    {
      "cell_type": "code",
      "metadata": {
        "id": "IrglccUq0Ejw"
      },
      "source": [
        ""
      ],
      "execution_count": null,
      "outputs": []
    }
  ]
}