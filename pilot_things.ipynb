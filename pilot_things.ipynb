{
  "nbformat": 4,
  "nbformat_minor": 0,
  "metadata": {
    "colab": {
      "name": "pilot_things.ipynb",
      "provenance": [],
      "authorship_tag": "ABX9TyM+ZWMM+op7EdXox/YTIe72",
      "include_colab_link": true
    },
    "kernelspec": {
      "name": "python3",
      "display_name": "Python 3"
    },
    "language_info": {
      "name": "python"
    }
  },
  "cells": [
    {
      "cell_type": "markdown",
      "metadata": {
        "id": "view-in-github",
        "colab_type": "text"
      },
      "source": [
        "<a href=\"https://colab.research.google.com/github/shibz14/python_study_projects_/blob/main/pilot_things.ipynb\" target=\"_parent\"><img src=\"https://colab.research.google.com/assets/colab-badge.svg\" alt=\"Open In Colab\"/></a>"
      ]
    },
    {
      "cell_type": "code",
      "metadata": {
        "id": "ZkrtbKxbLoRF"
      },
      "source": [
        "# Assignment Day 4\n",
        "\n",
        "#You all are pilots, you have to land a plane, the altitude required for landing\n",
        "#a plane is 1000ft, if it is less than that tell co-pilot to \"land the plane\", \n",
        "#or it is more than that but less than 5000ft ask the pilot to \"come down to 1000ft\"\n",
        "#else if it is more than 5000ft ask the pilot to \"go around and try later\""
      ],
      "execution_count": null,
      "outputs": []
    },
    {
      "cell_type": "code",
      "metadata": {
        "colab": {
          "base_uri": "https://localhost:8080/"
        },
        "id": "wIm_CKAlN-iV",
        "outputId": "69e81616-8553-46b9-de3c-44d180d4df08"
      },
      "source": [
        "#looking the dashboard and understanding the altitude\n",
        "\n",
        "altitude=int(input(\"what's the current altitude : \"))\n",
        "\n",
        "if altitude <= 1000 and altitude !=0:\n",
        "  print(\"oh buddy, we are safe to land\")\n",
        "\n",
        "elif altitude > 1000 and altitude < 5000:\n",
        "  print(\"we are still in heights, let's make it down to 1000ft\")\n",
        "\n",
        "elif altitude == 0:\n",
        "  print(\"Thank God, happy landing buddy\")\n",
        "\n",
        "else:\n",
        "  print(\"we have much more to go, let's take a turn and make a try again\")\n"
      ],
      "execution_count": 13,
      "outputs": [
        {
          "output_type": "stream",
          "text": [
            "what's the current altitude : 0\n",
            "Thank God, happy landing buddy\n"
          ],
          "name": "stdout"
        }
      ]
    }
  ]
}