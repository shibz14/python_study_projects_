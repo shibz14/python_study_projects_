{
  "nbformat": 4,
  "nbformat_minor": 0,
  "metadata": {
    "colab": {
      "name": "contact_book.ipynb",
      "provenance": [],
      "authorship_tag": "ABX9TyN0IFrz+2yLBSAYwcRy+fZY",
      "include_colab_link": true
    },
    "kernelspec": {
      "name": "python3",
      "display_name": "Python 3"
    },
    "language_info": {
      "name": "python"
    }
  },
  "cells": [
    {
      "cell_type": "markdown",
      "metadata": {
        "id": "view-in-github",
        "colab_type": "text"
      },
      "source": [
        "<a href=\"https://colab.research.google.com/github/shibz14/python_study_projects_/blob/main/contact_book.ipynb\" target=\"_parent\"><img src=\"https://colab.research.google.com/assets/colab-badge.svg\" alt=\"Open In Colab\"/></a>"
      ]
    },
    {
      "cell_type": "code",
      "metadata": {
        "colab": {
          "base_uri": "https://localhost:8080/"
        },
        "id": "PsReertCMcCc",
        "outputId": "fa4283a7-2876-4abf-893f-8da7e5196eb5"
      },
      "source": [
        "userDict = {\n",
        "    \"name\" : \"sulthu\",\n",
        "    \"number1\" : \"8086504511\",\n",
        "    \"number2\" : \"9946631118\",\n",
        "    \"imageUrl\"  :\"javascript: void(0)\",\n",
        "    \"email\" : \"sulthan@gmail.com\",\n",
        "    \"website\" : \"www.sulthan.com\"\n",
        "}\n",
        "\n",
        "no_contact=input(\"Enter number of contacts to be saved : \")\n",
        "\n",
        "contactDict={}\n",
        "\n",
        "for i in range(int(no_contact)):\n",
        "  name=input(\"Enter name : \")\n",
        "  number1=input(\"Enter number1 : \")\n",
        "  number2=input(\"Enter number2 : \")\n",
        "  imageUrl=input(\"Enter imgageUrl : \")\n",
        "  email=input(\"Enter email : \")\n",
        "  website=input(\"Enter website : \")\n",
        "\n",
        "  contactDict[name] = {\n",
        "      \"name\":name,\n",
        "      \"number1\":number1,\n",
        "      \"number2\":number2,\n",
        "      \"imageUrl\":imageUrl,\n",
        "      \"email\":email,\n",
        "      \"website\":website  }"
      ],
      "execution_count": null,
      "outputs": [
        {
          "output_type": "stream",
          "text": [
            "Enter number of contacts to be saved : 2\n",
            "Enter name : arshu\n",
            "Enter number1 : 1000000000\n",
            "Enter number2 : 2000000000\n",
            "Enter imgageUrl : https://media4.picsearch.com/is?V_UCBhc44d32euL55WIUzo_1L_kwKnzfwnmvp7hGB2U&height=176\n",
            "Enter email : arshu14@gmail.com\n",
            "Enter website : www.arshapv.com\n",
            "Enter name : sulthu\n",
            "Enter number1 : 3000000000\n",
            "Enter number2 : 4000000000\n",
            "Enter imgageUrl : https://media4.picsearch.com/is?V_UCBhc44d32euL55WIUzo_1L_kwKnzfwnmvp7hGB2U&height=176\n",
            "Enter email : sulthu14@gmail.com\n",
            "Enter website : www.sulthaav.com\n"
          ],
          "name": "stdout"
        }
      ]
    },
    {
      "cell_type": "code",
      "metadata": {
        "colab": {
          "base_uri": "https://localhost:8080/"
        },
        "id": "mH1nO8YzzoFh",
        "outputId": "744b2dd7-b626-4948-b5e2-0c5f190bb46a"
      },
      "source": [
        "contactDict"
      ],
      "execution_count": null,
      "outputs": [
        {
          "output_type": "execute_result",
          "data": {
            "text/plain": [
              "{'arshu': {'email': 'arshu14@gmail.com',\n",
              "  'imageUrl': 'https://media4.picsearch.com/is?V_UCBhc44d32euL55WIUzo_1L_kwKnzfwnmvp7hGB2U&height=176',\n",
              "  'name': 'arshu',\n",
              "  'number1': '1000000000',\n",
              "  'number2': '2000000000',\n",
              "  'website': 'www.arshapv.com'},\n",
              " 'sulthu': {'email': 'sulthu14@gmail.com',\n",
              "  'imageUrl': 'https://media4.picsearch.com/is?V_UCBhc44d32euL55WIUzo_1L_kwKnzfwnmvp7hGB2U&height=176',\n",
              "  'name': 'sulthu',\n",
              "  'number1': '3000000000',\n",
              "  'number2': '4000000000',\n",
              "  'website': 'www.sulthaav.com'}}"
            ]
          },
          "metadata": {
            "tags": []
          },
          "execution_count": 9
        }
      ]
    }
  ]
}