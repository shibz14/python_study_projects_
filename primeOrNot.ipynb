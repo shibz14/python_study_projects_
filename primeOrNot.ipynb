{
  "nbformat": 4,
  "nbformat_minor": 0,
  "metadata": {
    "colab": {
      "name": "primeOrNot.ipynb",
      "provenance": [],
      "collapsed_sections": [],
      "authorship_tag": "ABX9TyMOKy+G48jR2fxI8HujBQTm",
      "include_colab_link": true
    },
    "kernelspec": {
      "name": "python3",
      "display_name": "Python 3"
    },
    "language_info": {
      "name": "python"
    }
  },
  "cells": [
    {
      "cell_type": "markdown",
      "metadata": {
        "id": "view-in-github",
        "colab_type": "text"
      },
      "source": [
        "<a href=\"https://colab.research.google.com/github/shibz14/python_study_projects_/blob/main/primeOrNot.ipynb\" target=\"_parent\"><img src=\"https://colab.research.google.com/assets/colab-badge.svg\" alt=\"Open In Colab\"/></a>"
      ]
    },
    {
      "cell_type": "code",
      "metadata": {
        "id": "0sT6IWya2pZF"
      },
      "source": [
        "#program to check whether the user defined number is a prime or not\n",
        "\n",
        "a = int(input(\"Enter a number: \"))  \n",
        "  \n",
        "if a > 1:  \n",
        "   for i in range(2,a):  \n",
        "       if (a % i) == 0:  \n",
        "           print(a,\"is not a prime number\")    \n",
        "           break  \n",
        "   else:  \n",
        "       print(a,\"is a prime number\")  \n",
        "         \n",
        "else:  \n",
        "   print(a,\"is not a prime number\")  "
      ],
      "execution_count": null,
      "outputs": []
    },
    {
      "cell_type": "code",
      "metadata": {
        "id": "7CDqtsqC4OO6"
      },
      "source": [
        "#program to check whether the user defined number is a prime or not (collecting repeated inputs from user using infinite loop)\n",
        "\n",
        "while 1:\n",
        "  a = int(input(\"Enter a number: \"))\n",
        "\n",
        "  if a > 1:  \n",
        "   for i in range(2,a):  \n",
        "       if (a % i) == 0:  \n",
        "           print(a,\"is not a prime number\\n\\n\")    \n",
        "           break  \n",
        "   else:  \n",
        "       print(a,\"is a prime number\\n\\n\")  \n",
        "         \n",
        "  else:  \n",
        "   print(a,\"is not a prime number\\n\\n\")"
      ],
      "execution_count": null,
      "outputs": []
    },
    {
      "cell_type": "code",
      "metadata": {
        "id": "1Br0e-fT4XuQ"
      },
      "source": [
        "#program to check whether the user defined number is a prime or not \n",
        "#using \"functions\" (collecting repeated inputs from user using infinite loop)\n",
        "\n",
        "\n",
        "def primeorNot(a):\n",
        "  if a > 1:  \n",
        "   for i in range(2,a):  \n",
        "       if (a % i) == 0:  \n",
        "           print(a,\"is not a prime number\\n\\n\")    \n",
        "           break  \n",
        "   else:\n",
        "     print(a,\"is a prime number\\n\\n\")  \n",
        "         \n",
        "  else:\n",
        "    print(a,\"is not a prime number\\n\\n\")\n",
        "\n",
        "while 1:\n",
        "\n",
        "  n = int(input(\"Enter a number: \"))\n",
        "  primeorNot(n)"
      ],
      "execution_count": null,
      "outputs": []
    }
  ]
}