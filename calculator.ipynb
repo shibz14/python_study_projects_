{
  "nbformat": 4,
  "nbformat_minor": 0,
  "metadata": {
    "colab": {
      "name": "Untitled2.ipynb",
      "provenance": [],
      "authorship_tag": "ABX9TyOMDhTrH+hqCuG6IEZbnWP1",
      "include_colab_link": true
    },
    "kernelspec": {
      "name": "python3",
      "display_name": "Python 3"
    },
    "language_info": {
      "name": "python"
    }
  },
  "cells": [
    {
      "cell_type": "markdown",
      "metadata": {
        "id": "view-in-github",
        "colab_type": "text"
      },
      "source": [
        "<a href=\"https://colab.research.google.com/github/shibz14/python_study_projects_/blob/main/calculator.ipynb\" target=\"_parent\"><img src=\"https://colab.research.google.com/assets/colab-badge.svg\" alt=\"Open In Colab\"/></a>"
      ]
    },
    {
      "cell_type": "code",
      "metadata": {
        "id": "krTuheSJdDOv"
      },
      "source": [
        "#Build Subtraction, Multiplication and Division for calculator"
      ],
      "execution_count": 1,
      "outputs": []
    },
    {
      "cell_type": "code",
      "metadata": {
        "colab": {
          "base_uri": "https://localhost:8080/"
        },
        "id": "-o8ExP3vdOc5",
        "outputId": "81aaf6ff-30e0-404e-db7b-eb56314f8586"
      },
      "source": [
        "a=int(input(\"Enter first number : \"))\n",
        "\n",
        "b=int(input(\"Enter second number : \"))\n",
        "\n",
        "dif=a-b\n",
        "\n",
        "pro=a*b\n",
        "\n",
        "quo=a/b\n",
        "\n",
        "print(\"Difference = \",dif)\n",
        "\n",
        "print(\"Product = \",pro)\n",
        "\n",
        "print(\"Quotient = \",quo)"
      ],
      "execution_count": 2,
      "outputs": [
        {
          "output_type": "stream",
          "text": [
            "Enter first number : 17\n",
            "Enter second number : 2\n",
            "Difference =  15\n",
            "Product =  34\n",
            "Quotient =  8.5\n"
          ],
          "name": "stdout"
        }
      ]
    },
    {
      "cell_type": "code",
      "metadata": {
        "id": "HP1z6sePdU_7"
      },
      "source": [
        ""
      ],
      "execution_count": null,
      "outputs": []
    }
  ]
}